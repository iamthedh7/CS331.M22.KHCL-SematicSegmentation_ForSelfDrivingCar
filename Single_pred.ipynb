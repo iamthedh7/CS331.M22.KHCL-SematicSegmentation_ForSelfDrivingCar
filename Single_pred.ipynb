{
 "cells": [
  {
   "cell_type": "code",
   "execution_count": 7,
   "metadata": {},
   "outputs": [],
   "source": [
    "import os\n",
    "import cv2\n",
    "import numpy as np\n",
    "import matplotlib.pyplot as plt\n",
    "import tensorflow as tf\n",
    "from tensorflow import keras\n",
    "from _function.func_read_image import read_image"
   ]
  },
  {
   "cell_type": "code",
   "execution_count": 8,
   "metadata": {},
   "outputs": [],
   "source": [
    "model_loaded = keras.models.load_model('model_DLV3plus.h5') # insert your model's path here"
   ]
  },
  {
   "cell_type": "code",
   "execution_count": null,
   "metadata": {},
   "outputs": [],
   "source": [
    "path = '' # insert your image's path\n",
    "image_tensor = read_image(path)\n",
    "predictions = model_loaded.predict(np.expand_dims((image_tensor / 255), axis=0))  #(1,256,256,6)\n",
    "predictions = tf.squeeze(predictions, axis=0) #(256,256,6)\n",
    "predictions = tf.math.argmax(predictions, axis=2) \n",
    "\n",
    "rgb = []\n",
    "for i in predictions.numpy().ravel():\n",
    "    temp = [i] * 3\n",
    "    if (i == 0.0):\n",
    "        temp = [180, 180, 180]\n",
    "    elif (i == 1.0):\n",
    "        temp = [180, 0, 0]\n",
    "    elif (i == 2.0):\n",
    "        temp = [0, 180, 0]\n",
    "    elif (i == 3.0):\n",
    "        temp = [0, 0, 180]\n",
    "    elif (i == 4.0):\n",
    "        temp = [180, 180, 0]\n",
    "    elif (i == 5.0):\n",
    "        temp = [0, 180, 180]\n",
    "    rgb.append(temp)\n",
    "rgb = np.array(rgb)\n",
    "rgb = rgb.reshape(256, 256, 3).astype(np.uint8)\n",
    "\n",
    "added_image = cv2.addWeighted(image_tensor.numpy().astype(np.uint8), 1, rgb, 0.5, -2)\n",
    "added_image = cv2.resize(added_image, (int(2048/4), int(1024/4)))\n",
    "plt.imshow(added_image)\n",
    "plt.axis('off')\n",
    "plt.show()"
   ]
  }
 ],
 "metadata": {
  "interpreter": {
   "hash": "e3b7227cb0e16be10d7e56e8a99daf773f00deeeb86231c4097d458ec0b34d81"
  },
  "kernelspec": {
   "display_name": "Python 3.8.13 ('pt')",
   "language": "python",
   "name": "python3"
  },
  "language_info": {
   "codemirror_mode": {
    "name": "ipython",
    "version": 3
   },
   "file_extension": ".py",
   "mimetype": "text/x-python",
   "name": "python",
   "nbconvert_exporter": "python",
   "pygments_lexer": "ipython3",
   "version": "3.8.13"
  },
  "orig_nbformat": 4
 },
 "nbformat": 4,
 "nbformat_minor": 2
}
