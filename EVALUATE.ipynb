{
 "cells": [
  {
   "cell_type": "code",
   "execution_count": 1,
   "metadata": {},
   "outputs": [],
   "source": [
    "import os\n",
    "import numpy as np\n",
    "import matplotlib.pyplot as plt\n",
    "import tensorflow as tf\n",
    "from tensorflow import keras"
   ]
  },
  {
   "cell_type": "code",
   "execution_count": 2,
   "metadata": {},
   "outputs": [],
   "source": [
    "IMAGE_SIZE = 256\n",
    "NUM_CLASSES = 6"
   ]
  },
  {
   "cell_type": "code",
   "execution_count": 3,
   "metadata": {},
   "outputs": [],
   "source": [
    "def read_image(image_path, mask=False):\n",
    "    image = tf.io.read_file(image_path)\n",
    "    if mask:\n",
    "        image = tf.image.decode_png(image, channels=1)\n",
    "        image.set_shape([None, None, 1])\n",
    "        image = tf.image.resize(images=image, size=[IMAGE_SIZE, IMAGE_SIZE], method='nearest')\n",
    "        image = tf.cast(image, dtype=tf.float32)\n",
    "    else:\n",
    "        image = tf.image.decode_png(image, channels=3)\n",
    "        image.set_shape([None, None, 3])\n",
    "        image = tf.image.resize(images=image, size=[IMAGE_SIZE, IMAGE_SIZE])\n",
    "        image = image / 255\n",
    "        image = tf.cast(image, dtype=tf.float32)\n",
    "    return image"
   ]
  },
  {
   "cell_type": "markdown",
   "metadata": {},
   "source": [
    "# GET TRAIN DATA"
   ]
  },
  {
   "cell_type": "code",
   "execution_count": 4,
   "metadata": {},
   "outputs": [
    {
     "name": "stdout",
     "output_type": "stream",
     "text": [
      "2975\n"
     ]
    }
   ],
   "source": [
    "train_images_0 = []\n",
    "for i in os.listdir('leftImg8bit\\\\train'):\n",
    "    folder_path = 'leftImg8bit\\\\train\\\\' + i\n",
    "    files = os.listdir(folder_path)\n",
    "    for j in files:\n",
    "        img_path = 'leftImg8bit\\\\train\\\\' + i + '\\\\' + j\n",
    "        train_images_0.append(img_path)\n",
    "\n",
    "train_images_0 = sorted(train_images_0)\n",
    "print(len(train_images_0))"
   ]
  },
  {
   "cell_type": "code",
   "execution_count": 5,
   "metadata": {},
   "outputs": [
    {
     "name": "stdout",
     "output_type": "stream",
     "text": [
      "2975\n"
     ]
    }
   ],
   "source": [
    "train_masks_0 = []\n",
    "for i in os.listdir('mask\\\\train'):\n",
    "    train_masks_0.append('mask\\\\train\\\\' + i)\n",
    "\n",
    "train_masks_0 = sorted(train_masks_0)\n",
    "print(len(train_masks_0))"
   ]
  },
  {
   "cell_type": "markdown",
   "metadata": {},
   "source": [
    "# GET VALID DATA"
   ]
  },
  {
   "cell_type": "code",
   "execution_count": 6,
   "metadata": {},
   "outputs": [
    {
     "name": "stdout",
     "output_type": "stream",
     "text": [
      "500\n"
     ]
    }
   ],
   "source": [
    "val_images = []\n",
    "for i in os.listdir('leftImg8bit\\\\val'):\n",
    "    folder_path = 'leftImg8bit\\\\val\\\\' + i\n",
    "    files = os.listdir(folder_path)\n",
    "    for j in files:\n",
    "        img_path = 'leftImg8bit\\\\val\\\\' + i + '\\\\' + j\n",
    "        val_images.append(img_path)\n",
    "\n",
    "val_images = sorted(val_images)\n",
    "print(len(val_images))"
   ]
  },
  {
   "cell_type": "code",
   "execution_count": 7,
   "metadata": {},
   "outputs": [
    {
     "name": "stdout",
     "output_type": "stream",
     "text": [
      "500\n"
     ]
    }
   ],
   "source": [
    "val_masks = []\n",
    "for i in os.listdir('mask\\\\val'):\n",
    "    val_masks.append('mask\\\\val\\\\' + i)\n",
    "\n",
    "val_masks = sorted(val_masks)\n",
    "print(len(val_masks))"
   ]
  },
  {
   "cell_type": "code",
   "execution_count": 8,
   "metadata": {},
   "outputs": [],
   "source": [
    "all_imgs = train_images_0 + val_images\n",
    "all_masks = train_masks_0 + val_masks"
   ]
  },
  {
   "cell_type": "markdown",
   "metadata": {},
   "source": [
    "# EVALUATE"
   ]
  },
  {
   "cell_type": "code",
   "execution_count": 9,
   "metadata": {},
   "outputs": [],
   "source": [
    "model_DLv3_normal = keras.models.load_model('_Normal\\\\model_DLv3.h5')\n",
    "model_DLv3_augment = keras.models.load_model('_Augmentation\\\\model_DLv3.h5')"
   ]
  },
  {
   "cell_type": "code",
   "execution_count": 10,
   "metadata": {},
   "outputs": [],
   "source": [
    "model_Unet_normal = keras.models.load_model('_Normal\\\\model_Unet.h5')\n",
    "model_Unet_augment = keras.models.load_model('_Augmentation\\\\model_Unet.h5')"
   ]
  },
  {
   "cell_type": "code",
   "execution_count": 11,
   "metadata": {},
   "outputs": [],
   "source": [
    "from keras.metrics import MeanIoU"
   ]
  },
  {
   "cell_type": "code",
   "execution_count": 12,
   "metadata": {},
   "outputs": [
    {
     "name": "stdout",
     "output_type": "stream",
     "text": [
      "100 200 300 400 500 600 700 800 900 1000 1100 1200 1300 1400 1500 1600 1700 1800 1900 2000 2100 2200 2300 2400 2500 2600 2700 2800 2900 3000 3100 3200 3300 3400 "
     ]
    }
   ],
   "source": [
    "sum_IoU_0 = 0\n",
    "sum_IoU_1 = 0\n",
    "sum_IoU_2 = 0\n",
    "sum_IoU_3 = 0\n",
    "\n",
    "m = MeanIoU(num_classes=6)\n",
    "\n",
    "for i in range(len(all_imgs)):\n",
    "    print(i+1, end=' ') if ((i+1)%100 == 0) else print(end='')\n",
    "\n",
    "    image_tensor = read_image(all_imgs[i])\n",
    "    mask_tensor = read_image(all_masks[i], mask=True)\n",
    "    mask_tensor = tf.squeeze(mask_tensor, axis=2)\n",
    "\n",
    "    predictions_0 = model_DLv3_normal.predict(np.expand_dims((image_tensor), axis=0))  #(1,256,256,6)\n",
    "    predictions_0 = tf.squeeze(predictions_0, axis=0) #(256,256,6)\n",
    "    predictions_0 = tf.math.argmax(predictions_0, axis=2) \n",
    "    predictions_0 = tf.cast(predictions_0, dtype=tf.float32)\n",
    "    m.update_state(mask_tensor, predictions_0)\n",
    "    sum_IoU_0 += m.result().numpy()\n",
    "    m.reset_state()\n",
    "\n",
    "    predictions_1 = model_DLv3_augment.predict(np.expand_dims((image_tensor), axis=0))  #(1,256,256,6)\n",
    "    predictions_1 = tf.squeeze(predictions_1, axis=0) #(256,256,6)\n",
    "    predictions_1 = tf.math.argmax(predictions_1, axis=2) \n",
    "    predictions_1 = tf.cast(predictions_1, dtype=tf.float32)\n",
    "    m.update_state(mask_tensor, predictions_1)\n",
    "    sum_IoU_1 += m.result().numpy()\n",
    "    m.reset_state()\n",
    "\n",
    "    predictions_2 = model_Unet_normal.predict(np.expand_dims((image_tensor), axis=0))  #(1,256,256,6)\n",
    "    predictions_2 = tf.squeeze(predictions_2, axis=0) #(256,256,6)\n",
    "    predictions_2 = tf.math.argmax(predictions_2, axis=2) \n",
    "    predictions_2 = tf.cast(predictions_2, dtype=tf.float32)\n",
    "    m.update_state(mask_tensor, predictions_2)\n",
    "    sum_IoU_2 += m.result().numpy()\n",
    "    m.reset_state()\n",
    "\n",
    "    predictions_3 = model_Unet_augment.predict(np.expand_dims((image_tensor), axis=0))  #(1,256,256,6)\n",
    "    predictions_3 = tf.squeeze(predictions_3, axis=0) #(256,256,6)\n",
    "    predictions_3 = tf.math.argmax(predictions_3, axis=2) \n",
    "    predictions_3 = tf.cast(predictions_3, dtype=tf.float32)\n",
    "    m.update_state(mask_tensor, predictions_3)\n",
    "    sum_IoU_3 += m.result().numpy()\n",
    "    m.reset_state()"
   ]
  },
  {
   "cell_type": "code",
   "execution_count": 14,
   "metadata": {},
   "outputs": [
    {
     "name": "stdout",
     "output_type": "stream",
     "text": [
      "# Average IoU score of DeepLab v3+ normal model: 67.4394 %\n",
      "# Average IoU score of DeepLab v3+ augmentation model: 76.1968 %\n",
      "\n",
      "# Average IoU score of UNET normal model: 68.0981 %\n",
      "# Average IoU score of UNET augmentation model: 74.7571 %\n"
     ]
    }
   ],
   "source": [
    "print('# Average IoU score of DeepLab v3+ normal model: ', end='')\n",
    "print(round(sum_IoU_0/len(all_imgs) * 100, 4), '%')\n",
    "print('# Average IoU score of DeepLab v3+ augmentation model: ', end='')\n",
    "print(round(sum_IoU_1/len(all_imgs) * 100, 4), '%')\n",
    "print('\\n# Average IoU score of UNET normal model: ', end='')\n",
    "print(round(sum_IoU_2/len(all_imgs) * 100, 4), '%')\n",
    "print('# Average IoU score of UNET augmentation model: ', end='')\n",
    "print(round(sum_IoU_3/len(all_imgs) * 100, 4), '%')"
   ]
  }
 ],
 "metadata": {
  "interpreter": {
   "hash": "e3b7227cb0e16be10d7e56e8a99daf773f00deeeb86231c4097d458ec0b34d81"
  },
  "kernelspec": {
   "display_name": "Python 3.8.13 ('pt')",
   "language": "python",
   "name": "python3"
  },
  "language_info": {
   "codemirror_mode": {
    "name": "ipython",
    "version": 3
   },
   "file_extension": ".py",
   "mimetype": "text/x-python",
   "name": "python",
   "nbconvert_exporter": "python",
   "pygments_lexer": "ipython3",
   "version": "3.8.13"
  },
  "orig_nbformat": 4
 },
 "nbformat": 4,
 "nbformat_minor": 2
}
